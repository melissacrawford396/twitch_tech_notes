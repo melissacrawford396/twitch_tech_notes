{
 "cells": [
  {
   "cell_type": "code",
   "execution_count": 1,
   "metadata": {},
   "outputs": [],
   "source": [
    "import pandas as pd\n",
    "import numpy as np"
   ]
  },
  {
   "cell_type": "markdown",
   "metadata": {},
   "source": [
    "Confirm error has an issue logged for it:\n",
    "https://github.com/pandas-dev/pandas/issues/23164\n",
    "\n",
    "Diving deeper: https://github.com/pandas-dev/pandas/issues/16276\n",
    "\n",
    "-------\n",
    "\n",
    "Sounds like the making the interval slightly lower was a patch fit b/c IntervalIndex requires all bins closed on the same side.\n",
    "- `(3, interval[int64]): [[0, 3] < (3, 6] < (6, 8]]` is not valid\n",
    "\n",
    "-----\n",
    "Issue below: The bounds on the interval aren't what I expect them to be. They are 0.999 vs 1.0.\n",
    "\n",
    "They made the bottom interval slightly smaller to compensate for the fact that you can't have differently closed bins for IntervalIndex.\n",
    "- Example:`(3, interval[int64]): [[0, 3] < (3, 6] < (6, 8]]` is not valid, but it's what I want.\n",
    "- What I can get `[(-0.001, 3.0] < (3.0, 6.0] < (6.0, 8.0]]`\n",
    "**NOTE the `[` versus the `(`**\n",
    "\n",
    "\n",
    "#### \"Solution\"/ Hack\n",
    "Just pass the labels I want used instead of using the actual IntervalIndex"
   ]
  },
  {
   "cell_type": "code",
   "execution_count": 54,
   "metadata": {},
   "outputs": [],
   "source": [
    "array = [1,2,3,4,5,6,7,8]"
   ]
  },
  {
   "cell_type": "code",
   "execution_count": 58,
   "metadata": {},
   "outputs": [
    {
     "data": {
      "text/plain": [
       "[(-0.001, 3.0], (-0.001, 3.0], (-0.001, 3.0], (3.0, 6.0], (3.0, 6.0], (3.0, 6.0], (6.0, 8.0], (6.0, 8.0], NaN]\n",
       "Categories (3, interval[float64]): [(-0.001, 3.0] < (3.0, 6.0] < (6.0, 8.0]]"
      ]
     },
     "execution_count": 58,
     "metadata": {},
     "output_type": "execute_result"
    }
   ],
   "source": [
    "pd.cut(x=array, \n",
    "       bins=[0,3,6,8], \n",
    "       include_lowest=True, \n",
    "      )\n"
   ]
  },
  {
   "cell_type": "code",
   "execution_count": 59,
   "metadata": {},
   "outputs": [
    {
     "data": {
      "text/plain": [
       "[(0.991, 5.0], (0.991, 5.0], (0.991, 5.0], (0.991, 5.0], (0.991, 5.0], (5.0, 9.0], (5.0, 9.0], (5.0, 9.0], (5.0, 9.0]]\n",
       "Categories (2, interval[float64]): [(0.991, 5.0] < (5.0, 9.0]]"
      ]
     },
     "execution_count": 59,
     "metadata": {},
     "output_type": "execute_result"
    }
   ],
   "source": [
    "pd.cut(x=array, bins=2, include_lowest=True)\n"
   ]
  },
  {
   "cell_type": "code",
   "execution_count": null,
   "metadata": {},
   "outputs": [],
   "source": []
  },
  {
   "cell_type": "code",
   "execution_count": null,
   "metadata": {},
   "outputs": [],
   "source": []
  },
  {
   "cell_type": "code",
   "execution_count": null,
   "metadata": {},
   "outputs": [],
   "source": []
  },
  {
   "cell_type": "code",
   "execution_count": 60,
   "metadata": {},
   "outputs": [
    {
     "data": {
      "text/plain": [
       "['[1, 4]', '(4, 6]']"
      ]
     },
     "execution_count": 60,
     "metadata": {},
     "output_type": "execute_result"
    }
   ],
   "source": [
    "def construct_str_label(bins):\n",
    "    if len(bins) < 2:\n",
    "        raise ValueError(f'bin must have at least 2 values')\n",
    "    bins = sorted(bins) \n",
    "    \n",
    "    label = []\n",
    "    \n",
    "    low_idx = 0 \n",
    "    for high_idx in range(1, len(bins)):\n",
    "        if low_idx == 0:\n",
    "            # First case is fully inclusive\n",
    "            label.append(f'[{bins[low_idx]}, {bins[high_idx]}]')\n",
    "        else:\n",
    "            label.append(f'({bins[low_idx]}, {bins[high_idx]}]')\n",
    "        low_idx += 1\n",
    "\n",
    "    return label\n",
    "            \n",
    "    \n",
    "construct_str_label([1,4,6])"
   ]
  },
  {
   "cell_type": "code",
   "execution_count": 61,
   "metadata": {},
   "outputs": [
    {
     "data": {
      "text/plain": [
       "['[1, 3]', '(3, 4]', '(4, 5]', '(5, 7]']"
      ]
     },
     "execution_count": 61,
     "metadata": {},
     "output_type": "execute_result"
    }
   ],
   "source": [
    "construct_str_label([1,3,4,5,7])"
   ]
  },
  {
   "cell_type": "code",
   "execution_count": null,
   "metadata": {},
   "outputs": [],
   "source": []
  },
  {
   "cell_type": "code",
   "execution_count": null,
   "metadata": {},
   "outputs": [],
   "source": []
  },
  {
   "cell_type": "markdown",
   "metadata": {},
   "source": [
    "### Try making an intervalIndex with multiple bracket types"
   ]
  },
  {
   "cell_type": "code",
   "execution_count": 62,
   "metadata": {},
   "outputs": [
    {
     "data": {
      "text/plain": [
       "IntervalIndex([(0, 1], (1, 2], (2, 3], (3, 4], (4, 5]],\n",
       "              closed='right',\n",
       "              dtype='interval[int64]')"
      ]
     },
     "execution_count": 62,
     "metadata": {},
     "output_type": "execute_result"
    }
   ],
   "source": [
    "pd.interval_range(start=0, end=5)"
   ]
  },
  {
   "cell_type": "code",
   "execution_count": 67,
   "metadata": {},
   "outputs": [
    {
     "data": {
      "text/plain": [
       "IntervalIndex([(1, 4], (4, 7], (7, 9]],\n",
       "              closed='right',\n",
       "              dtype='interval[int64]')"
      ]
     },
     "execution_count": 67,
     "metadata": {},
     "output_type": "execute_result"
    }
   ],
   "source": [
    "pd.IntervalIndex.from_arrays([1,4,7], [4,7,9])"
   ]
  },
  {
   "cell_type": "code",
   "execution_count": null,
   "metadata": {},
   "outputs": [],
   "source": []
  },
  {
   "cell_type": "code",
   "execution_count": null,
   "metadata": {},
   "outputs": [],
   "source": []
  },
  {
   "cell_type": "code",
   "execution_count": null,
   "metadata": {},
   "outputs": [],
   "source": []
  },
  {
   "cell_type": "code",
   "execution_count": null,
   "metadata": {},
   "outputs": [],
   "source": []
  }
 ],
 "metadata": {
  "kernelspec": {
   "display_name": "Python ml",
   "language": "python",
   "name": "ml"
  },
  "language_info": {
   "codemirror_mode": {
    "name": "ipython",
    "version": 3
   },
   "file_extension": ".py",
   "mimetype": "text/x-python",
   "name": "python",
   "nbconvert_exporter": "python",
   "pygments_lexer": "ipython3",
   "version": "3.6.10"
  }
 },
 "nbformat": 4,
 "nbformat_minor": 4
}
