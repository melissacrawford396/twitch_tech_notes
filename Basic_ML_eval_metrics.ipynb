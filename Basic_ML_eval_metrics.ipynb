{
 "cells": [
  {
   "cell_type": "markdown",
   "metadata": {},
   "source": [
    "## Basic ML Eval Metrics\n",
    "Let's go through some basics and expand on them until we're more familiar. These should be second nature to understand. \n",
    "- Confusion matrix. False/True positive/negatives\n",
    "- Accuracy, precision\n",
    "- Recall, \n",
    "- F1-score, \n",
    "- Sensitivity and Specificity\n",
    "- ROC, AUC,\n",
    "\n",
    "References: \n",
    "- https://towardsdatascience.com/20-popular-machine-learning-metrics-part-1-classification-regression-evaluation-metrics-1ca3e282a2ce\n",
    "\n",
    "\n",
    "**Confusion Matrix**:\n",
    "Ground truth vs predictions\n",
    "\n",
    "<img src='./pics/confusion_matrix.png'>Confusion Matrix</img>\n",
    "\n",
    "|       |  Predicted    | Cat          | Non-Cat  |\n",
    "| ----- |:---: |:--------:| -----:|\n",
    "|predicted class| Cat | True Positive | False positive |\n",
    "| .| Non-Cat      | False Negative      |   True Negative |\n",
    "\n",
    "- **True Positive**: Correctly predict Cat (positive)\n",
    "- **False Negative**: You predicted as a NON-Cat (neg), but they are Cats (pos)\n",
    "- **False Positive**: You predicted as Cat (pos), but they are a NON-Cat (neg)\n",
    "- **True Negative**: Correctly predict Non-Cat (neg)\n",
    "\n",
    "\n",
    "**Another example**: Sickness testing. Positive results in a positive test. Negative means you are healthy. "
   ]
  },
  {
   "cell_type": "code",
   "execution_count": 1,
   "metadata": {},
   "outputs": [],
   "source": [
    "import pandas as pd\n",
    "import numpy as np"
   ]
  },
  {
   "cell_type": "code",
   "execution_count": 15,
   "metadata": {},
   "outputs": [
    {
     "data": {
      "text/html": [
       "<div>\n",
       "<style scoped>\n",
       "    .dataframe tbody tr th:only-of-type {\n",
       "        vertical-align: middle;\n",
       "    }\n",
       "\n",
       "    .dataframe tbody tr th {\n",
       "        vertical-align: top;\n",
       "    }\n",
       "\n",
       "    .dataframe thead th {\n",
       "        text-align: right;\n",
       "    }\n",
       "</style>\n",
       "<table border=\"1\" class=\"dataframe\">\n",
       "  <thead>\n",
       "    <tr style=\"text-align: right;\">\n",
       "      <th></th>\n",
       "      <th>Actual Cat</th>\n",
       "      <th>Actual Non-Cat</th>\n",
       "    </tr>\n",
       "    <tr>\n",
       "      <th>a</th>\n",
       "      <th></th>\n",
       "      <th></th>\n",
       "    </tr>\n",
       "  </thead>\n",
       "  <tbody>\n",
       "    <tr>\n",
       "      <th>Predict cat</th>\n",
       "      <td>90</td>\n",
       "      <td>60</td>\n",
       "    </tr>\n",
       "    <tr>\n",
       "      <th>Predict non-cat</th>\n",
       "      <td>10</td>\n",
       "      <td>940</td>\n",
       "    </tr>\n",
       "  </tbody>\n",
       "</table>\n",
       "</div>"
      ],
      "text/plain": [
       "                 Actual Cat  Actual Non-Cat\n",
       "a                                          \n",
       "Predict cat              90              60\n",
       "Predict non-cat          10             940"
      ]
     },
     "execution_count": 15,
     "metadata": {},
     "output_type": "execute_result"
    }
   ],
   "source": [
    "matrix = pd.DataFrame([\n",
    "    ('Predict cat', 90, 60),\n",
    "    ('Predict non-cat', 10, 940)\n",
    "    ], columns=['a','Actual Cat', 'Actual Non-Cat'])\n",
    "matrix.set_index('a', inplace=True)\n",
    "matrix"
   ]
  },
  {
   "cell_type": "markdown",
   "metadata": {},
   "source": [
    "### Accuracy and Precision\n",
    "#### Accuracy\n",
    "Number of correct predictions divided by the total number of predictions\n"
   ]
  },
  {
   "cell_type": "code",
   "execution_count": 30,
   "metadata": {},
   "outputs": [
    {
     "data": {
      "text/plain": [
       "0.9363636363636364"
      ]
     },
     "execution_count": 30,
     "metadata": {},
     "output_type": "execute_result"
    }
   ],
   "source": [
    "raw_val = matrix.values\n",
    "true_pos = matrix.loc['Predict cat', 'Actual Cat'] \n",
    "true_neg = matrix.loc['Predict non-cat', 'Actual Non-Cat']\n",
    "\n",
    "false_pos = matrix.loc['Predict cat', 'Actual Non-Cat']\n",
    "false_neg = matrix.loc['Predict non-cat', 'Actual Cat']\n",
    "\n",
    "\n",
    "total = matrix.values.sum()\n",
    "correct_predictions = true_pos + true_neg\n",
    "\n",
    "accuracy  = correct_predictions / total\n",
    "accuracy"
   ]
  },
  {
   "cell_type": "markdown",
   "metadata": {},
   "source": [
    "#### Precision\n",
    "Better metric when your class set is imbalanced. (like for spam classification or cancer detection. In both of these cases there are far more negative cases (non-spam / no cancer) than positive ones)\n",
    "\n",
    "> Precision = True positive / (true positive + False Positive)\n",
    "\n",
    "denominator (cat-cat +predict cat, but not-cat)"
   ]
  },
  {
   "cell_type": "code",
   "execution_count": 46,
   "metadata": {},
   "outputs": [
    {
     "data": {
      "text/plain": [
       "0.6"
      ]
     },
     "execution_count": 46,
     "metadata": {},
     "output_type": "execute_result"
    }
   ],
   "source": [
    "precision = true_pos / (true_pos + false_pos)\n",
    "precision"
   ]
  },
  {
   "cell_type": "code",
   "execution_count": 47,
   "metadata": {},
   "outputs": [
    {
     "data": {
      "text/plain": [
       "0.9894736842105263"
      ]
     },
     "execution_count": 47,
     "metadata": {},
     "output_type": "execute_result"
    }
   ],
   "source": [
    "precision_noncat = true_neg / (true_neg + false_neg)\n",
    "precision_noncat"
   ]
  },
  {
   "cell_type": "markdown",
   "metadata": {},
   "source": [
    "### Recall\n",
    "For the class you are trying to predict, how many  were correctly predicted\n",
    "\n",
    "> Recall = true_pos / (true_pos + false_neg)\n",
    "\n",
    "denominator (Cat-cat + Predict non cat, but actually cat)"
   ]
  },
  {
   "cell_type": "code",
   "execution_count": 48,
   "metadata": {},
   "outputs": [
    {
     "data": {
      "text/plain": [
       "0.9"
      ]
     },
     "execution_count": 48,
     "metadata": {},
     "output_type": "execute_result"
    }
   ],
   "source": [
    "recall = true_pos / (true_pos + false_neg)\n",
    "recall"
   ]
  },
  {
   "cell_type": "code",
   "execution_count": 49,
   "metadata": {},
   "outputs": [
    {
     "data": {
      "text/plain": [
       "0.94"
      ]
     },
     "execution_count": 49,
     "metadata": {},
     "output_type": "execute_result"
    }
   ],
   "source": [
    "recall_noncat = true_neg / (true_neg + false_pos)\n",
    "recall_noncat"
   ]
  },
  {
   "cell_type": "markdown",
   "metadata": {},
   "source": [
    "### Accuracy vs Precision VS Recall\n",
    "- **Accuracy**: All true over ALL\n",
    "- **Precision (PP)**: Predicted Positive Class (false positive). High precision, of the classes identified as positive, most actually are positive. \n",
    "- **Recall (Rec-actual)**: Actual Positive Class (false negatives). High Recall, very good at prediction positive class. "
   ]
  },
  {
   "cell_type": "code",
   "execution_count": null,
   "metadata": {},
   "outputs": [],
   "source": []
  },
  {
   "cell_type": "markdown",
   "metadata": {},
   "source": [
    "### F1 Score\n",
    "Combination of Precision and Recall. There is always a trade off between precision and recall. If you improve one, you'll eventually have to give up gains on the other.\n",
    "\n",
    "\n",
    "$$F1\\quad Score = \\frac{2* Precision * Recall}{Precision + Recall}$$\n",
    "F1_Score is just the scenario where $\\beta$ = 1\n",
    "\n",
    "$$FBeta\\quad Score = \\frac{(1+\\beta^2)* Precision * Recall}{\\beta^2 *Precision + Recall}$$"
   ]
  },
  {
   "cell_type": "code",
   "execution_count": 54,
   "metadata": {},
   "outputs": [],
   "source": [
    "def f_score(precision, recall, beta=1):\n",
    "    return ((1 + beta**2)* precision * recall)/ (beta**2 * precision + recall)"
   ]
  },
  {
   "cell_type": "code",
   "execution_count": 55,
   "metadata": {},
   "outputs": [
    {
     "data": {
      "text/plain": [
       "0.7200000000000001"
      ]
     },
     "execution_count": 55,
     "metadata": {},
     "output_type": "execute_result"
    }
   ],
   "source": [
    "f_score(precision, recall)"
   ]
  },
  {
   "cell_type": "markdown",
   "metadata": {},
   "source": [
    "### Sensitivity and Specificity\n",
    "#### Sensitivity\n",
    "Ability for a test to correctly identify those **with disease** (true positive rates)\n",
    "> Sensitivity = Recall = TP/(TP + FN)\n",
    "\n",
    "#### Specificity\n",
    "Ability for a test to correctly identify those **who are healthy** (true negative rates).\n",
    "> Specificity = True Negative Rate = TN/(TN+FP)\n",
    "\n",
    "Nice graphic explaining diff in terms of a pregnancy test: [medical tests](https://www.healthnewsreview.org/toolkit/tips-for-understanding-studies/understanding-medical-tests-sensitivity-specificity-and-positive-predictive-value/)\n",
    "How senstive is it to showing you are correctly predicted as pregnent.\n",
    "How Specific is it in how many people are correctly NOT pregant.\n",
    "\n",
    "- **How senstive is test?** As in: How many actually-pregnant women does it correctly identify as pregnan?\n",
    "- **How Specific is test?** As in: How many not-pregnant women does it correctly confirm as not-pregnant?\n",
    "- **What is false-negative rate?** How many women who were pregnant were told they weren't?\n",
    "- **What is false-positive rate?** How many women who weren't actually pregnant were told they were pregnant?"
   ]
  },
  {
   "cell_type": "markdown",
   "metadata": {},
   "source": [
    "### ROC Curve\n",
    "Receiver Operating Characteristic Curve.\n",
    "Shows the performance of a binary classifier as a function of its cut-off threshold.\n",
    "\n",
    "> It should the true positive rate (TPR) agains the false positive rate (FPR) for various threshold values. \n",
    "\n",
    "[sklearn example ROC](https://scikit-learn.org/stable/modules/generated/sklearn.metrics.roc_curve.html)"
   ]
  },
  {
   "cell_type": "code",
   "execution_count": 56,
   "metadata": {},
   "outputs": [
    {
     "data": {
      "text/plain": [
       "(array([0. , 0. , 0.5, 0.5, 1. ]),\n",
       " array([0. , 0.5, 0.5, 1. , 1. ]),\n",
       " array([1.8 , 0.8 , 0.4 , 0.35, 0.1 ]))"
      ]
     },
     "execution_count": 56,
     "metadata": {},
     "output_type": "execute_result"
    }
   ],
   "source": [
    "import numpy as np\n",
    "from sklearn import metrics\n",
    "y = np.array([1, 1, 2, 2])\n",
    "scores = np.array([0.1, 0.4, 0.35, 0.8])\n",
    "fpr, tpr, thresholds = metrics.roc_curve(y, scores, pos_label=2)\n",
    "fpr, tpr, thresholds"
   ]
  },
  {
   "cell_type": "code",
   "execution_count": 58,
   "metadata": {},
   "outputs": [],
   "source": [
    "import matplotlib.pyplot as plt\n",
    "from sklearn import datasets, metrics, model_selection, svm"
   ]
  },
  {
   "cell_type": "code",
   "execution_count": 64,
   "metadata": {},
   "outputs": [],
   "source": [
    "X, y = datasets.make_classification(random_state=0)\n",
    "X_train, X_test, y_train, y_test = model_selection.train_test_split(\n",
    "    X, y, random_state=0)\n"
   ]
  },
  {
   "cell_type": "code",
   "execution_count": 65,
   "metadata": {},
   "outputs": [
    {
     "data": {
      "text/plain": [
       "SVC(random_state=0)"
      ]
     },
     "execution_count": 65,
     "metadata": {},
     "output_type": "execute_result"
    }
   ],
   "source": [
    "clf = svm.SVC(random_state=0)\n",
    "clf.fit(X_train, y_train)\n"
   ]
  },
  {
   "cell_type": "code",
   "execution_count": 69,
   "metadata": {},
   "outputs": [
    {
     "data": {
      "text/plain": [
       "array([1, 0, 1, 0, 0, 1, 1, 0, 0, 1, 1, 0, 0, 0, 0, 1, 0, 0, 1, 1, 1, 0,\n",
       "       1, 0, 0])"
      ]
     },
     "execution_count": 69,
     "metadata": {},
     "output_type": "execute_result"
    }
   ],
   "source": [
    "pred_y = clf.predict(X_test)\n",
    "pred_y"
   ]
  },
  {
   "cell_type": "code",
   "execution_count": 66,
   "metadata": {},
   "outputs": [
    {
     "data": {
      "text/plain": [
       "<sklearn.metrics._plot.roc_curve.RocCurveDisplay at 0x119de06d8>"
      ]
     },
     "execution_count": 66,
     "metadata": {},
     "output_type": "execute_result"
    },
    {
     "data": {
      "image/png": "[encoded data removed]",
      "text/plain": [
       "<matplotlib.figure.Figure at 0x126a725f8>"
      ]
     },
     "metadata": {
      "needs_background": "light"
     },
     "output_type": "display_data"
    }
   ],
   "source": [
    "metrics.plot_roc_curve(clf, X_test, y_test)\n"
   ]
  },
  {
   "cell_type": "markdown",
   "metadata": {},
   "source": [
    "### AUC\n",
    "Area Under the curve. The higher the AUC of a model the better. It means Higher true positive compared to the False positive rate. \n",
    "\n"
   ]
  },
  {
   "cell_type": "code",
   "execution_count": 70,
   "metadata": {},
   "outputs": [
    {
     "data": {
      "text/plain": [
       "0.8782051282051283"
      ]
     },
     "execution_count": 70,
     "metadata": {},
     "output_type": "execute_result"
    }
   ],
   "source": [
    "from sklearn.metrics import roc_auc_score\n",
    "roc_auc_score(y_test, pred_y)"
   ]
  },
  {
   "cell_type": "code",
   "execution_count": null,
   "metadata": {},
   "outputs": [],
   "source": []
  },
  {
   "cell_type": "code",
   "execution_count": null,
   "metadata": {},
   "outputs": [],
   "source": []
  },
  {
   "cell_type": "code",
   "execution_count": null,
   "metadata": {},
   "outputs": [],
   "source": []
  }
 ],
 "metadata": {
  "kernelspec": {
   "display_name": "Python ml",
   "language": "python",
   "name": "ml"
  },
  "language_info": {
   "codemirror_mode": {
    "name": "ipython",
    "version": 3
   },
   "file_extension": ".py",
   "mimetype": "text/x-python",
   "name": "python",
   "nbconvert_exporter": "python",
   "pygments_lexer": "ipython3",
   "version": "3.6.10"
  }
 },
 "nbformat": 4,
 "nbformat_minor": 4
}
